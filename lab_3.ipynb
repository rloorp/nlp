{
  "cells": [
    {
      "cell_type": "markdown",
      "id": "e2c88e42-50d4-4b4d-bdf1-894bcff1a41d",
      "metadata": {
        "id": "e2c88e42-50d4-4b4d-bdf1-894bcff1a41d"
      },
      "source": [
        "# NLP and Neural Networks\n",
        "\n",
        "In this exercise, we'll apply our knowledge of neural networks to process natural language. As we did in the bigram exercise, the goal of this lab is to predict the next word, given the previous one."
      ]
    },
    {
      "cell_type": "markdown",
      "id": "5132d376-54d7-48c3-a52c-ac3d94ed798b",
      "metadata": {
        "id": "5132d376-54d7-48c3-a52c-ac3d94ed798b"
      },
      "source": [
        "### Data set\n",
        "\n",
        "Load the text from \"One Hundred Years of Solitude\" that we used in our bigrams exercise. It's located in the data folder."
      ]
    },
    {
      "cell_type": "markdown",
      "id": "9e309d79-7746-40e3-8a02-3cc7b45c16ac",
      "metadata": {
        "id": "9e309d79-7746-40e3-8a02-3cc7b45c16ac"
      },
      "source": [
        "### Important note:\n",
        "\n",
        "Start with a smaller part of the text. Maybe the first 10 parragraphs, as the number of tokens rapidly increases as we add more text.\n",
        "\n",
        "Later you can use a bigger corpus."
      ]
    },
    {
      "cell_type": "code",
      "execution_count": 271,
      "id": "9bbced32-a252-48b0-bc8f-cecfdcf1ec2e",
      "metadata": {
        "id": "9bbced32-a252-48b0-bc8f-cecfdcf1ec2e"
      },
      "outputs": [],
      "source": [
        "import torch\n",
        "from nltk.tokenize import TreebankWordTokenizer\n",
        "tokenizer = TreebankWordTokenizer()"
      ]
    },
    {
      "cell_type": "code",
      "source": [
        "text = open('/content/cap1.txt', 'r').read().lower()"
      ],
      "metadata": {
        "id": "MYexXq2s1kBY"
      },
      "id": "MYexXq2s1kBY",
      "execution_count": 272,
      "outputs": []
    },
    {
      "cell_type": "code",
      "source": [
        "text"
      ],
      "metadata": {
        "colab": {
          "base_uri": "https://localhost:8080/",
          "height": 86
        },
        "id": "errl_STM1xSV",
        "outputId": "4b172bd6-a730-475c-9382-43113023f2fd"
      },
      "id": "errl_STM1xSV",
      "execution_count": 273,
      "outputs": [
        {
          "output_type": "execute_result",
          "data": {
            "text/plain": [
              "'muchos años después, frente al pelotón de fusilamiento, el coronel aureliano buendía había de recordar aquella tarde remota en que su padre lo llevó a conocer el hielo. macondo era entonces una aldea de veinte casas de barro y cañabrava construidas a la orilla de un río de aguas diáfanas que se precipitaban por un lecho de piedras pulidas, blancas y enormes como huevos prehistóricos. el mundo era tan reciente, que muchas cosas carecían de nombre, y para mencionarlas había que señalarlas con el dedo. todos los años, por el mes de marzo, una familia de gitanos desarrapados plantaba su carpa cerca de la aldea, y con un grande alboroto de pitos y timbales daban a conocer los nuevos inventos. primero llevaron el imán. un gitano corpulento, de barba montaraz y manos de gorrión, que se presentó con el nombre de melquíades, hizo una truculenta demostración pública de lo que él mismo llamaba la octava maravilla de los sabios alquimistas de macedonia. fue de casa en casa arrastrando dos lingotes metálicos, y todo el mundo se espantó al ver que los calderos, las pailas, las tenazas y los anafes se caían de su sitio, y las maderas crujían por la desesperación de los clavos y los tornillos tratando de desenclavarse, y aun los objetos perdidos desde hacía mucho tiempo aparecían por donde más se les había buscado, y se arrastraban en desbandada turbulenta detrás de los fierros mágicos de melquíades. «las cosas tienen vida propia —pregonaba el gitano con áspero acento—, todo es cuestión de despertarles el ánima.» josé arcadio buendía, cuya desaforada imaginación iba siempre más lejos que el ingenio de la naturaleza, y aun más allá del milagro y la magia, pensó que era posible servirse de aquella invención inútil para desentrañar el oro de la tierra. melquíades, que era un hombre honrado, le previno: «para eso no sirve.» pero josé arcadio buendía no creía en aquel tiempo en la honradez de los gitanos, así que cambió su mulo y una partida de chivos por los dos lingotes imantados. úrsula iguarán, su mujer, que contaba con aquellos animales para ensanchar el desmedrado patrimonio doméstico, no consiguió disuadirlo. «muy pronto ha de sobrarnos oro para empedrar la casa», replicó su marido. durante varios meses se empeñó en demostrar el acierto de sus conjeturas. exploró palmo a palmo la región, inclusive el fondo del río, arrastrando los dos lingotes de hierro y recitando en voz alta el conjuro de melquíades. lo único que logró desenterrar fue una armadura del siglo xv con todas sus partes soldadas por un cascote de óxido, cuyo interior tenía la resonancia hueca de un enorme calabazo lleno de piedras. cuando josé arcadio buendía y los cuatro hombres de su expedición lograron desarticular la armadura, encontraron dentro un esqueleto calcificado que llevaba colgado en el cuello un relicario de cobre con un rizo de mujer.\\n \\nen marzo volvieron los gitanos. esta vez llevaban un catalejo y una lupa del tamaño de un tambor, que exhibieron como el último descubrimiento de los judíos de amsterdam. sentaron una gitana en un extremo de la aldea e instalaron el catalejo a la entrada de la carpa. mediante el pago de cinco reales, la gente se asomaba al catalejo y veía a la gitana al alcance de su mano. «la ciencia ha eliminado las distancias», pregonaba melquíades. «dentro de poco, el hombre podrá ver lo que ocurre en cualquier lugar de la tierra, sin moverse de su casa.» un mediodía ardiente hicieron una asombrosa demostración con la lupa gigantesca: pusieron un montón de hierba seca en mitad de la calle y le prendieron fuego mediante la concentración de los rayos solares. josé arcadio buendía, que aún no acababa de consolarse por el fracaso de sus imanes, concibió la idea de utilizar aquel invento como un arma de guerra. melquíades, otra vez, trató de disuadirlo. pero terminó por aceptar los dos lingotes imantados y tres piezas de dinero colonial a cambio de la lupa. úrsula lloró de consternación. aquel dinero formaba parte de un cofre de monedas de oro que su padre había acumulado en toda una vida de privaciones, y que ella había enterrado debajo de la cama en espera de una buena ocasión para invertirlas. josé arcadio buendía no trató siquiera de consolarla, entregado por entero a sus experimentos tácticos con la abnegación de un científico y aun a riesgo de su propia vida. tratando de demostrar los efectos de la lupa en la tropa enemiga, se expuso él mismo a la concentración de los rayos solares y sufrió quemaduras que se convirtieron en úlceras y tardaron mucho tiempo en sanar. ante las protestas de su mujer, alarmada por tan peligrosa inventiva, estuvo a punto de incendiar la casa. pasaba largas horas en su cuarto, haciendo cálculos sobre las posibilidades estratégicas de su arma novedosa, hasta que logró componer un manual de una asombrosa claridad didáctica y un poder de convicción irresistible. lo envió a las autoridades acompañado de numerosos testimonios sobre sus experiencias y de varios pliegos de dibujos explicativos, al cuidado de un mensajero que atravesó la sierra, se extravió en pantanos desmesurados, remontó ríos tormentosos y estuvo a punto de perecer bajo el azote de las fieras, la desesperación y la peste, antes de conseguir una ruta de enlace con las mulas del correo. a pesar de que el viaje a la capital era en aquel tiempo poco menos que imposible, josé arcadio buendía prometía intentarlo tan pronto como se lo ordenara el gobierno, con el fin de hacer demostraciones prácticas de su invento ante los poderes militares, y adiestrarlos personalmente en las complicadas artes de la guerra solar. durante varios años esperó la respuesta. por último, cansado de esperar, se lamentó ante melquíades del fracaso de su iniciativa, y el gitano dio entonces una prueba convincente de honradez: le devolvió los doblones a cambio de la lupa, y le dejó además unos mapas portugueses y varios instrumentos de navegación. de su puño y letra escribió una apretada síntesis de los estudios del monje hermann, que dejó a su disposición para que pudiera servirse del astrolabio, la brújula y el sextante. josé arcadio buendía pasó los largos meses de lluvia encerrado en un cuartito que construyó en el fondo de la casa para que nadie perturbara sus experimentos. habiendo abandonado por completo las obligaciones domésticas, permaneció noches enteras en el patio vigilando el curso de los astros, y estuvo a punto de contraer una insolación por tratar de establecer un método exacto para encontrar el mediodía. cuando se hizo experto en el uso y manejo de sus instrumentos, tuvo una noción del espacio que le permitió navegar por mares incógnitos, visitar territorios deshabitados y trabar relación con seres espléndidos, sin necesidad de abandonar su gabinete. fue esa la época en que adquirió el hábito de hablar a solas, paseándose por la casa sin hacer caso de nadie, mientras úrsula y los niños se partían el espinazo en la huerta cuidando el plátano y la malanga, la yuca y el ñame, la ahuyama y la berenjena. de pronto, sin ningún anuncio, su actividad febril se interrumpió y fue sustituida por una especie de fascinación. estuvo varios días como hechizado, repitiéndose a sí mismo en voz baja un sartal de asombrosas conjeturas, sin dar crédito a su propio entendimiento. por fin, un martes de diciembre, a la hora del almuerzo, soltó de un golpe toda la carga de su tormento. los niños habían de recordar por el resto de su vida la augusta solemnidad con que su padre se sentó a la cabecera de la mesa, temblando de fiebre, devastado por la prolongada vigilia y por el encono de su imaginación, y les reveló su descubrimiento:\\n \\n—la tierra es redonda como una naranja.\\n \\núrsula perdió la paciencia. «si has de volverte loco, vuélvete tú solo», gritó. «pero no trates de inculcar a los niños tus ideas de gitano.» josé arcadio buendía, impasible, no se dejó amedrentar por la desesperación de su mujer, que en un rapto de cólera le destrozó el astrolabio contra el suelo. construyó otro, reunió en el cuartito a los hombres del pueblo y les demostró, con teorías que para todos resultaban incomprensibles, la posibilidad de regresar al punto de partida navegando siempre hacia el oriente. toda la aldea estaba convencida de que josé arcadio buendía había perdido el juicio, cuando llegó melquíades a poner las cosas en su punto. exaltó en público la inteligencia de aquel hombre que por pura especulación astronómica había construido una teoría ya comprobada en la práctica, aunque desconocida hasta entonces en macondo, y como una prueba de su admiración le hizo un regalo que había de ejercer una influencia terminante en el futuro de la aldea: un laboratorio de alquimia.\\n \\npara esa época, melquíades había envejecido con una rapidez asombrosa. en sus primeros viajes parecía tener la misma edad de josé arcadio buendía. pero mientras éste conservaba su fuerza descomunal, que le permitía derribar un caballo agarrándolo por las orejas, el gitano parecía estragado por una dolencia tenaz. era, en realidad, el resultado de múltiples y raras enfermedades contraídas en sus incontables viajes alrededor del mundo. según él mismo le contó a josé arcadio buendía mientras lo ayudaba a montar el laboratorio, la muerte lo seguía a todas partes, husmeándole los pantalones, pero sin decidirse a darle el zarpazo final. era un fugitivo de cuantas plagas y catástrofes habían flagelado al género humano. sobrevivió a la pelagra en persia, al escorbuto en el archipiélago de malasia, a la lepra en alejandría, al beriberi en el japón, a la peste bubónica en madagascar, al terremoto de sicilia y a un naufragio multitudinario en el estrecho de magallanes. aquel ser prodigioso que decía poseer las claves de nostradamus, era un hombre lúgubre, envuelto en un aura triste, con una mirada asiática que parecía conocer el otro lado de las cosas. usaba un sombrero grande y negro, como las alas extendidas de un cuervo, y un chaleco de terciopelo patinado por el verdín de los siglos. pero a pesar de su inmensa sabiduría y de su ámbito misterioso tenía un peso humano, una condición terrestre que lo mantenía enredado en los minúsculos problemas de la vida cotidiana. se quejaba de dolencias de viejo, sufría por los más insignificantes percances económicos y había dejado de reír desde hacía mucho tiempo, porque el escorbuto le había arrancado los dientes. el sofocante mediodía en que reveló sus secretos, josé arcadio buendía tuvo la certidumbre de que aquel era el principio de una grande amistad. los niños se asombraron con sus relatos fantásticos. aureliano, que no tenía entonces más de cinco años, había de recordarlo por el resto de su vida como lo vio aquella tarde, sentado contra la claridad metálica y reverberante de la ventana, alumbrando con su profunda voz de órgano los territorios más oscuros de la imaginación, mientras chorreaba por sus sienes la grasa derretida por el calor. josé arcadio, su hermano mayor, había de transmitir aquella imagen maravillosa, como un recuerdo hereditario, a toda su descendencia. úrsula, en cambio, conservó un mal recuerdo de aquella visita, porque entró al cuarto en el momento en que melquíades rompió por distracción un frasco de bicloruro de mercurio.\\n\\n—es el olor del demonio —dijo ella.\\n—en absoluto —corrigió melquíades—. está comprobado que el demonio tiene propiedades sulfúricas, y esto no es más que un poco de solimán.\\n \\n\\nsiempre didáctico, hizo una sabia exposición sobre las virtudes diabólicas del cinabrio, pero úrsula no le hizo caso, sino que se llevó los niños a rezar. aquel olor mordiente quedaría para siempre en su memoria, vinculado al recuerdo de melquíades.\\n \\n\\nel rudimentario laboratorio —sin contar una profusión de cazuelas, embudos, retortas, filtros y coladores— estaba compuesto por un atanor primitivo; una probeta de cristal de cuello largo y angosto, imitación del huevo filosófico, y un destilador construido por los propios gitanos según las descripciones modernas del alambique de tres brazos de maría la judía. además de estas cosas, melquíades dejó muestras de los siete metales correspondientes a los siete planetas, las fórmulas de moisés y zósimo para el doblado del oro, y una serie de apuntes y dibujos sobre los procesos del gran magisterio, que permitían a quien supiera interpretarlos intentar la fabricación de la piedra filosofal. seducido por la simplicidad de las fórmulas para doblar el oro, josé arcadio buendía cortejó a úrsula durante varias semanas, para que le permitiera desenterrar sus monedas coloniales y aumentarlas tantas veces como era posible subdividir el azogue. úrsula cedió, como ocurría siempre, ante la inquebrantable obstinación de su marido. entonces josé arcadio buendía echó treinta doblones en una cazuela, y los fundió con raspadura de cobre, oropimente, azufre y plomo. puso a hervir todo a fuego vivo en un caldero de aceite de ricino hasta obtener un jarabe espeso y pestilente más parecido al caramelo vulgar que al oro magnífico. en azarosos y desesperados procesos de destilación, fundida con los siete metales planetarios, trabajada con el mercurio hermético y el vitriolo de chipre, y vuelta a cocer en manteca de cerdo a falta de aceite de rábano, la preciosa herencia de úrsula quedó reducida a un chicharrón carbonizado que no pudo ser desprendido del fondo del caldero.\\n \\n\\ncuando volvieron los gitanos, úrsula había predispuesto contra ellos a toda la población. pero la curiosidad pudo más que el temor, porque aquella vez los gitanos recorrieron la aldea haciendo un ruido ensordecedor con toda clase de instrumentos músicos, mientras el pregonero anunciaba la exhibición del más fabuloso hallazgo de los nasciancenos. de modo que todo el mundo se fue a la carpa, y mediante el pago de un centavo vieron un melquíades juvenil, repuesto, desarrugado, con una dentadura nueva y radiante. quienes recordaban sus encías destruidas por el escorbuto, sus mejillas fláccidas y sus labios marchitos se estremecieron de pavor ante aquella prueba terminante de los poderes sobrenaturales del gitano. el pavor se convirtió en pánico cuando melquíades se sacó los dientes, intactos, engastados en las encías, y se los mostró al público por un instante —un instante fugaz en que volvió a ser el mismo hombre decrépito de los años anteriores— y se los puso otra vez y sonrió de nuevo con un dominio pleno de su juventud restaurada. hasta el propio josé arcadio buendía consideró que los conocimientos de melquíades habían llegado a extremos intolerables, pero experimentó un saludable alborozo cuando el gitano le explicó a solas el mecanismo de su dentadura postiza. aquello le pareció a la vez tan sencillo y prodigioso, que de la noche a la mañana perdió todo interés en las investigaciones de alquimia; sufrió una nueva crisis de mal humor, no volvió a comer en forma regular y se pasaba el día dando vueltas por la casa. «en el mundo están ocurriendo cosas increíbles», le decía a úrsula. «ahí mismo, al otro lado del río, hay toda clase de aparatos mágicos, mientras nosotros seguimos viviendo como los burros.» quienes lo conocían desde los tiempos de la fundación de macondo se asombraban de cuánto había cambiado bajo la influencia de melquíades.\\n \\n\\nal principio, josé arcadio buendía era una especie de patriarca juvenil, que daba instrucciones para la siembra y consejos para la crianza de niños y animales, y colaboraba con todos, aun en el trabajo físico, para la buena marcha de la comunidad. puesto que su casa fue desde el primer momento la mejor de la aldea, las otras fueron arregladas a su imagen y semejanza. tenía una salita amplia y bien iluminada, un comedor en forma de terraza con flores de colores alegres, dos dormitorios, un patio con un castaño gigantesco, un huerto bien plantado y un corral donde vivían en comunidad pacífica los chivos, los cerdos y las gallinas. los únicos animales prohibidos no sólo en la casa, sino en todo el poblado, eran los gallos de pelea.\\n \\n\\nla laboriosidad de úrsula andaba a la par con la de su marido. activa, menuda, severa, aquella mujer de nervios inquebrantables, a quien en ningún momento de su vida se la oyó cantar, parecía estar en todas partes desde el amanecer hasta muy entrada la noche, siempre perseguida por el suave susurro de sus pollerines de olán. gracias a ella, los pisos de tierra golpeada, los muros de barro sin encalar, los rústicos muebles de madera construidos por ellos mismos estaban siempre limpios, y los viejos arcones donde se guardaba la ropa exhalaban un tibio olor de albahaca.\\n \\n\\njosé arcadio buendía, que era el hombre más emprendedor que se vería jamás en la aldea, había dispuesto de tal modo la posición de las casas, que desde todas podía llegarse al río y abastecerse de agua con igual esfuerzo, y trazó las calles con tan buen sentido que ninguna casa recibía más sol que otra a la hora del calor. en pocos años, macondo fue una aldea más ordenada y laboriosa que cualquiera de las conocidas hasta entonces por sus 300 habitantes. era en verdad una aldea feliz, donde nadie era mayor de treinta años y donde nadie había muerto.\\n \\n\\ndesde los tiempos de la fundación, josé arcadio buendía construyó trampas y jaulas. en poco tiempo llenó de turpiales, canarios, azulejos y petirrojos no sólo la propia casa, sino todas las de la aldea. el concierto de tantos pájaros distintos llegó a ser tan aturdidor, que úrsula se tapó los oídos con cera de abejas para no perder el sentido de la realidad. la primera vez que llegó la tribu de melquíades vendiendo bolas de vidrio para el dolor de cabeza, todo el mundo se sorprendió de que hubieran podido encontrar aquella aldea perdida en el sopor de la ciénaga, y los gitanos confesaron que se habían orientado por el canto de los pájaros.\\n \\n\\naquel espíritu de iniciativa social desapareció en poco tiempo, arrastrado por la fiebre de los imanes, los cálculos astronómicos, los sueños de transmutación y las ansias de conocer las maravillas del mundo. de emprendedor y limpio, josé arcadio buendía se convirtió en un hombre de aspecto holgazán, descuidado en el vestir, con una barba salvaje que úrsula lograba cuadrar a duras penas con un cuchillo de cocina. no faltó quien lo considerara víctima de algún extraño sortilegio. pero hasta los más convencidos de su locura abandonaron trabajo y familias para seguirlo, cuando se echó al hombro sus herramientas de desmontar, y pidió el concurso de todos para abrir una trocha que pusiera a macondo en contacto con los grandes inventos.\\n \\n\\njosé arcadio buendía ignoraba por completo la geografía de la región. sabía que hacia el oriente estaba la sierra impenetrable, y al otro lado de la sierra la antigua ciudad de riohacha, donde en épocas pasadas —según le había contado el primer aureliano buendía, su abuelo— sir francis drake se daba al deporte de cazar caimanes a cañonazos, que luego hacía remendar y rellenar de paja para llevárselos a la reina isabel. en su juventud, él y sus hombres, con mujeres y niños y animales y toda clase de enseres domésticos, atravesaron la sierra buscando una salida al mar, y al cabo de veintiséis meses desistieron de la empresa y fundaron a macondo para no tener que emprender el camino de regreso. era, pues, una ruta que no le interesaba, porque sólo podía conducirlo al pasado. al sur estaban los pantanos, cubiertos de una eterna nata vegetal, y el vasto universo de la ciénaga grande, que según testimonio de los gitanos carecía de límites. la ciénaga grande se confundía al occidente con una extensión acuática sin horizontes, donde había cetáceos de piel delicada con cabeza y torso de mujer, que perdían a los navegantes con el hechizo de sus tetas descomunales. los gitanos navegaban seis meses por esa ruta antes de alcanzar el cinturón de tierra firme por donde pasaban las mulas del correo. de acuerdo con los cálculos de josé arcadio buendía, la única posibilidad de contacto con la civilización era la ruta del norte. de modo que dotó de herramientas de desmonte y armas de cacería a los mismos hombres que lo acompañaron en la fundación de macondo; echó en una mochila sus instrumentos de orientación y sus mapas, y emprendió la temeraria aventura.\\n \\n\\nlos primeros días no encontraron un obstáculo apreciable. descendieron por la pedregosa ribera del río hasta el lugar en que años antes habían encontrado la armadura del guerrero, y allí penetraron al bosque por un sendero de naranjos silvestres. al término de la primera semana, mataron y asaron un venado, pero se conformaron con comer la mitad y salar el resto para los próximos días. trataban de aplazar con esa precaución la necesidad de seguir comiendo guacamayas, cuya carne azul tenía un áspero sabor de almizcle. luego, durante más de diez días, no volvieron a ver el sol. el suelo se volvió blando y húmedo, como ceniza volcánica, y la vegetación fue cada vez más insidiosa y se hicieron cada vez más lejanos los gritos de los pájaros y la bullaranga de los monos, y el mundo se volvió triste para siempre. los hombres de la expedición se sintieron abrumados por sus recuerdos más antiguos en aquel paraíso de humedad y silencio, anterior al pecado original, donde las botas se hundían en pozos de aceites humeantes y los machetes destrozaban lirios sangrientos y salamandras doradas. durante una semana, casi sin hablar, avanzaron como sonámbulos por un universo de pesadumbre, alumbrados apenas por una tenue reverberación de insectos luminosos y con los pulmones agobiados por un sofocante olor de sangre. no podían regresar, porque la trocha que iban abriendo a su paso se volvía a cerrar en poco tiempo, con una vegetación nueva que casi veían crecer ante sus ojos. «no importa», decía josé arcadio buendía. «lo esencial es no perder la orientación.» siempre pendiente de la brújula, siguió guiando a sus hombres hacia el norte invisible, hasta que lograron salir de la región encantada. era una noche densa, sin estrellas, pero la oscuridad estaba impregnada por un aire nuevo y limpio. agotados por la prolongada travesía, colgaron las hamacas y durmieron a fondo por primera vez en dos semanas. cuando despertaron, ya con el sol alto, se quedaron pasmados de fascinación. frente a ellos, rodeado de helechos y palmeras, blanco y polvoriento en la silenciosa luz de la mañana, estaba un enorme galeón español. ligeramente volteado a estribor, de su arboladura intacta colgaban las piltrafas escuálidas del velamen, entre jarcias adornadas de orquídeas. el casco, cubierto con una tersa coraza de rémora petrificada y musgo tierno, estaba firmemente enclavado en un suelo de piedras. toda la estructura parecía ocupar un ámbito propio, un espacio de soledad y de olvido, vedado a los vicios del tiempo y a las costumbres de los pájaros. en el interior, que los expedicionarios exploraron con un fervor sigiloso, no había nada más que un apretado bosque de flores.\\n \\n\\nel hallazgo del galeón, indicio de la proximidad del mar, quebrantó el ímpetu de josé arcadio buendía. consideraba como una burla de su travieso destino haber buscado el mar sin encontrarlo, al precio de sacrificios y penalidades sin cuento, y haberlo encontrado entonces sin buscarlo, atravesado en su camino como un obstáculo insalvable. muchos años después, el coronel aureliano buendía volvió a atravesar la región, cuando era ya una ruta regular del correo, y lo único que encontró de la nave fue el costillar carbonizado en medio de un campo de amapolas. sólo entonces, convencido de que aquella historia no había sido un engendro de la imaginación de su padre, se preguntó cómo había podido el galeón adentrarse hasta ese punto en tierra firme. pero josé arcadio buendía no se planteó esa inquietud cuando encontró el mar, al cabo de otros cuatro días de viaje, a doce kilómetros de distancia del galeón. sus sueños terminaban frente a ese mar color de ceniza, espumoso y sucio, que no merecía los riesgos y sacrificios de su aventura.\\n \\n\\n—¡carajo! —gritó—. macondo está rodeado de agua por todas partes.\\n \\n\\nla idea de un macondo peninsular prevaleció durante mucho tiempo, inspirada en el mapa arbitrario que dibujó josé arcadio buendía al regreso de su expedición. lo trazó con rabia, exagerando de mala fe las dificultades de comunicación, como para castigarse a sí mismo por la absoluta falta de sentido con que eligió el lugar. «nunca llegaremos a ninguna parte», se lamentaba ante úrsula. «aquí nos hemos de pudrir en vida sin recibir los beneficios de la ciencia.» esa certidumbre, rumiada varios meses en el cuartito del laboratorio, lo llevó a concebir el proyecto de trasladar a macondo a un lugar más propicio. pero esta vez, úrsula se anticipó a sus designios febriles. en una secreta e implacable labor de hormiguita predispuso a las mujeres de la aldea contra la veleidad de sus hombres, que ya empezaban a prepararse para la mudanza. josé arcadio buendía no supo en qué momento, ni en virtud de qué fuerzas adversas, sus planes se fueron enredando en una maraña de pretextos, contratiempos y evasivas, hasta convertirse en pura y simple ilusión. úrsula lo observó con una atención inocente, y hasta sintió por él un poco de piedad, la mañana en que lo encontró en el cuartito del fondo comentando entre dientes sus sueños de mudanza, mientras colocaba en sus cajas originales las piezas del laboratorio. lo dejó terminar. lo dejó clavar las cajas y poner sus iniciales encima con un hisopo entintado, sin hacerle ningún reproche, pero sabiendo ya que él sabía (porque se lo oyó decir en sus sordos monólogos) que los hombres del pueblo no lo secundarían en su empresa. sólo cuando empezó a desmontar la puerta del cuartito, úrsula se atrevió a preguntarle por qué lo hacía, y él le contestó con una cierta amargura: «puesto que nadie quiere irse, nos iremos solos.» úrsula no se alteró.\\n \\n\\n—no nos iremos —dijo—. aquí nos quedamos, porque aquí hemos tenido un hijo.\\n—todavía no tenemos un muerto —dijo él—. uno no es de ninguna parte mientras no tenga un muerto bajo la tierra.\\n \\n\\núrsula replicó, con una suave firmeza:\\n—si es necesario que yo me muera para que se queden aquí, me muero.\\n \\n\\njosé arcadio buendía no creyó que fuera tan rígida la voluntad de su mujer. trató de seducirla con el hechizo de su fantasía, con la promesa de un mundo prodigioso donde bastaba con echar unos líquidos mágicos en la tierra para que las plantas dieran frutos a voluntad del hombre, y donde se vendían a precio de baratillo toda clase de aparatos para el dolor. pero úrsula fue insensible a su clarividencia.\\n \\n\\n—en vez de andar pensando en tus alocadas novelerías, debes ocuparte de tus hijos —replicó—. míralos cómo están, abandonados a la buena de dios, igual que los burros.\\n \\n\\njosé arcadio buendía tomó al pie de la letra las palabras de su mujer. miró a través de la ventana y vio a los dos niños descalzos en la huerta soleada, y tuvo la impresión de que sólo en aquel instante habían empezado a existir, concebidos por el conjuro de úrsula. algo ocurrió entonces en su interior; algo misterioso y definitivo que lo desarraigó de su tiempo actual y lo llevó a la deriva por una región inexplorada de los recuerdos. mientras úrsula seguía barriendo la casa que ahora estaba segura de no abandonar en el resto de su vida, él permaneció contemplando a los niños con mirada absorta, hasta que los ojos se le humedecieron y se los secó con el dorso de la mano, y exhaló un hondo suspiro de resignación.\\n \\n\\n—bueno —dijo—. diles que vengan a ayudarme a sacar las cosas de los cajones.\\n \\n\\njosé arcadio, el mayor de los niños, había cumplido catorce años. tenía la cabeza cuadrada, el pelo hirsuto y el carácter voluntarioso de su padre. aunque llevaba el mismo impulso de crecimiento y fortaleza física, ya desde entonces era evidente que carecía de imaginación. fue concebido y dado a luz durante la penosa travesía de la sierra, antes de la fundación de macondo, y sus padres dieron gracias al cielo al comprobar que no tenía ningún órgano de animal. aureliano, el primer ser humano que nació en macondo, iba a cumplir seis años en marzo. era silencioso y retraído. había llorado en el vientre de su madre y nació con los ojos abiertos. mientras le cortaban el ombligo movía la cabeza de un lado a otro reconociendo las cosas del cuarto, y examinaba el rostro de la gente con una curiosidad sin asombro. luego, indiferente a quienes se acercaban a conocerlo, mantuvo la atención concentrada en el techo de palma, que parecía a punto de derrumbarse bajo la tremenda presión de la lluvia. úrsula no volvió a acordarse de la intensidad de esa mirada hasta un día en que el pequeño aureliano, a la edad de tres años, entró a la cocina en el momento en que ella retiraba del fogón y ponía en la mesa una olla de caldo hirviendo. el niño, perplejo en la puerta, dijo: «se va a caer.» la olla estaba bien puesta en el centro de la mesa, pero tan pronto como el niño hizo el anuncio, inició un movimiento irrevocable hacia el borde, como impulsada por un dinamismo interior, y se despedazó en el suelo. úrsula, alarmada, le contó el episodio a su marido, pero éste lo interpretó como un fenómeno natural. así fue siempre, ajeno a la existencia de sus hijos, en parte porque consideraba la infancia como un período de insuficiencia mental, y en parte porque siempre estaba demasiado absorto en sus propias especulaciones quiméricas.\\n \\n\\npero desde la tarde en que llamó a los niños para que lo ayudaran a desempacar las cosas del laboratorio, les dedicó sus horas mejores. en el cuartito apartado, cuyas paredes se fueron llenando poco a poco de mapas inverosímiles y gráficos fabulosos, les enseñó a leer y escribir y a sacar cuentas, y les habló de las maravillas del mundo no sólo hasta donde le alcanzaban sus conocimientos, sino forzando a extremos increíbles los límites de su imaginación. fue así como los niños terminaron por aprender que en el extremo meridional del áfrica había hombres tan inteligentes y pacíficos que su único entretenimiento era sentarse a pensar, y que era posible atravesar a pie el mar egeo saltando de isla en isla hasta el puerto de salónica. aquellas alucinantes sesiones quedaron de tal modo impresas en la memoria de los niños, que muchos años más tarde, un segundo antes de que el oficial de los ejércitos regulares diera la orden de fuego al pelotón de fusilamiento, el coronel aureliano buendía volvió a vivir la tibia tarde de marzo en que su padre interrumpió la lección de física, y se quedó fascinado, con la mano en el aire y los ojos inmóviles, oyendo a la distancia los pífanos y tambores y sonajas de los gitanos que una vez más llegaban a la aldea, pregonando el último y asombroso descubrimiento de los sabios de memphis.\\n \\n\\neran gitanos nuevos. hombres y mujeres jóvenes que sólo conocían su propia lengua, ejemplares hermosos de piel aceitada y manos inteligentes, cuyos bailes y músicas sembraron en las calles un pánico de alborotada alegría, con sus loros pintados de todos los colores que recitaban romanzas italianas, y la gallina que ponía un centenar de huevos de oro al son de la pandereta, y el mono amaestrado que adivinaba el pensamiento, y la máquina múltiple que servía al mismo tiempo para pegar botones y bajar la fiebre, y el aparato para olvidar los malos recuerdos, y el emplasto para perder el tiempo, y un millar de invenciones más, tan ingeniosas e insólitas, que josé arcadio buendía hubiera querido inventar la máquina de la memoria para poder acordarse de todas. en un instante transformaron la aldea. los habitantes de macondo se encontraron de pronto perdidos en sus propias calles, aturdidos por la feria multitudinaria.\\n \\n\\nllevando un niño de cada mano para no perderlos en el tumulto, tropezando con saltimbanquis de dientes acorazados de oro y malabaristas de seis brazos, sofocado por el confuso aliento de estiércol y sándalo que exhalaba la muchedumbre, josé arcadio buendía andaba como un loco buscando a melquíades por todas partes, para que le revelara los infinitos secretos de aquella pesadilla fabulosa. se dirigió a varios gitanos que no entendieron su lengua. por último, llegó hasta el lugar donde melquíades solía plantar su tienda, y encontró un armenio taciturno que anunciaba en castellano un jarabe para hacerse invisible. se había tomado de un golpe una copa de la sustancia ambarina, cuando josé arcadio buendía se abrió paso a empujones por entre el grupo absorto que presenciaba el espectáculo, y alcanzó a hacer la pregunta. el gitano lo envolvió en el clima atónito de su mirada, antes de convertirse en un charco de alquitrán pestilente y humeante sobre el cual quedó flotando la resonancia de su respuesta: «melquíades murió.» aturdido por la noticia, josé arcadio buendía permaneció inmóvil, tratando de sobreponerse a la aflicción, hasta que el grupo se dispersó reclamado por otros artificios y el charco del armenio taciturno se evaporó por completo. más tarde, otros gitanos le confirmaron que en efecto melquíades había sucumbido a las fiebres en los médanos de singapur, y su cuerpo había sido arrojado en el lugar más profundo del mar de java. a los niños no les interesó la noticia. estaban obstinados en que su padre los llevara a conocer la portentosa novedad de los sabios de memphis, anunciada a la entrada de una tienda que, según decían, perteneció al rey salomón. tanto insistieron, que josé arcadio buendía pagó los treinta reales y los condujo hasta el centro de la carpa, donde había un gigante de torso peludo y cabeza rapada, con un anillo de cobre en la nariz y una pesada cadena de hierro en el tobillo, custodiando un cofre de pirata. al ser destapado por el gigante, el cofre dejó escapar un aliento glacial. dentro sólo había un enorme bloque transparente, con infinitas agujas internas en las cuales se despedazaba en estrellas de colores la claridad del crepúsculo. desconcertado, sabiendo que los niños esperaban una explicación inmediata, josé arcadio buendía se atrevió a murmurar:\\n \\n\\n—es el diamante más grande del mundo.\\n—no —corrigió el gitano—. es hielo.\\n \\n\\njosé arcadio buendía, sin entender, extendió la mano hacia el témpano, pero el gigante se la apartó. «cinco reales más para tocarlo», dijo. josé arcadio buendía los pagó, y entonces puso la mano sobre el hielo, y la mantuvo puesta por varios minutos, mientras el corazón se le hinchaba de temor y de júbilo al contacto del misterio. sin saber qué decir, pagó otros diez reales para que sus hijos vivieran la prodigiosa experiencia. el pequeño josé arcadio se negó a tocarlo. aureliano, en cambio, dio un paso hacia adelante, puso la mano y la retiró en el acto. «está hirviendo», exclamó asustado. pero su padre no le prestó atención. embriagado por la evidencia del prodigio, en aquel momento se olvidó de la frustración de sus empresas delirantes y del cuerpo de melquíades abandonado al apetito de los calamares. pagó otros cinco reales, y con la mano puesta en el témpano, como expresando un testimonio sobre el texto sagrado, exclamó:\\n \\n\\n—este es el gran invento de nuestro tiempo.\\n'"
            ],
            "application/vnd.google.colaboratory.intrinsic+json": {
              "type": "string"
            }
          },
          "metadata": {},
          "execution_count": 273
        }
      ]
    },
    {
      "cell_type": "markdown",
      "id": "3d1393d6-7cbf-4e8e-a699-0f0cd28982a3",
      "metadata": {
        "id": "3d1393d6-7cbf-4e8e-a699-0f0cd28982a3"
      },
      "source": [
        "Don't forget to prepare the data by generating the corresponding tokens."
      ]
    },
    {
      "cell_type": "code",
      "execution_count": 274,
      "id": "9c33da77-ad0b-4eeb-9eaa-0dc98485187f",
      "metadata": {
        "id": "9c33da77-ad0b-4eeb-9eaa-0dc98485187f"
      },
      "outputs": [],
      "source": [
        "tokens = tokenizer.tokenize(text)"
      ]
    },
    {
      "cell_type": "code",
      "source": [
        "tokens[:10]"
      ],
      "metadata": {
        "colab": {
          "base_uri": "https://localhost:8080/"
        },
        "id": "ysIprnQw13Vv",
        "outputId": "ae6765bb-5aa7-4f44-867d-0d3b397947e5"
      },
      "id": "ysIprnQw13Vv",
      "execution_count": 275,
      "outputs": [
        {
          "output_type": "execute_result",
          "data": {
            "text/plain": [
              "['muchos',\n",
              " 'años',\n",
              " 'después',\n",
              " ',',\n",
              " 'frente',\n",
              " 'al',\n",
              " 'pelotón',\n",
              " 'de',\n",
              " 'fusilamiento',\n",
              " ',']"
            ]
          },
          "metadata": {},
          "execution_count": 275
        }
      ]
    },
    {
      "cell_type": "code",
      "source": [
        "len(tokens)"
      ],
      "metadata": {
        "colab": {
          "base_uri": "https://localhost:8080/"
        },
        "id": "nOCMXWLF2d9U",
        "outputId": "592ef079-c9e0-4db6-d11b-c2cbb87931fe"
      },
      "id": "nOCMXWLF2d9U",
      "execution_count": 276,
      "outputs": [
        {
          "output_type": "execute_result",
          "data": {
            "text/plain": [
              "6293"
            ]
          },
          "metadata": {},
          "execution_count": 276
        }
      ]
    },
    {
      "cell_type": "markdown",
      "id": "7681843a-18f0-4d7c-9b02-83015f4383e1",
      "metadata": {
        "id": "7681843a-18f0-4d7c-9b02-83015f4383e1"
      },
      "source": [
        "### Let's prepare the data set.\n",
        "\n",
        "Our neural network needs to have an input X and an output y. Remember that these sets are numerical, so you'd need something to map the tokens into numbers, and viceversa."
      ]
    },
    {
      "cell_type": "code",
      "execution_count": 277,
      "id": "c820ccde-c2ee-41ef-b840-41ccca58b550",
      "metadata": {
        "id": "c820ccde-c2ee-41ef-b840-41ccca58b550"
      },
      "outputs": [],
      "source": [
        "# in this case, let's consider a bigram (w1, w2)\n",
        "# assign the w1 to the X vector, and w2 to the y vector, why do we do this?"
      ]
    },
    {
      "cell_type": "code",
      "execution_count": 278,
      "id": "29c10640-f146-478a-a1a4-d2e747af5ea6",
      "metadata": {
        "id": "29c10640-f146-478a-a1a4-d2e747af5ea6"
      },
      "outputs": [],
      "source": [
        "vocab = {}\n",
        "index_to_token = []\n",
        "current_index = 0\n",
        "\n",
        "for token in tokens:\n",
        "    if token not in vocab:\n",
        "        vocab[token] = current_index\n",
        "        index_to_token.append(token)\n",
        "        current_index += 1\n",
        "\n",
        "\n",
        "b = {}\n",
        "for w1, w2 in zip(tokens, tokens[1:]):\n",
        "    bigram = (w1, w2)\n",
        "    b[bigram] = b.get(bigram, 0) + 1"
      ]
    },
    {
      "cell_type": "code",
      "execution_count": 279,
      "id": "cfedfd3b-0396-456b-b9f9-f1c07262a721",
      "metadata": {
        "id": "cfedfd3b-0396-456b-b9f9-f1c07262a721"
      },
      "outputs": [],
      "source": [
        "# Don't forget that since we are using torch, our training set vectors should be tensors"
      ]
    },
    {
      "cell_type": "code",
      "execution_count": 280,
      "id": "640c4732-8463-494a-904f-3880975e2273",
      "metadata": {
        "id": "640c4732-8463-494a-904f-3880975e2273"
      },
      "outputs": [],
      "source": [
        "X = torch.tensor([vocab[w1] for w1, w2 in b.keys()], dtype=torch.long)\n",
        "y = torch.tensor([vocab[w2] for w1, w2 in b.keys()], dtype=torch.long)"
      ]
    },
    {
      "cell_type": "code",
      "execution_count": 281,
      "id": "5984fd00-bdbf-4403-a341-b7ef83138db2",
      "metadata": {
        "id": "5984fd00-bdbf-4403-a341-b7ef83138db2"
      },
      "outputs": [],
      "source": [
        "# Note that our vectors are integers, which can be thought as a categorical variables.\n",
        "# torch provides the one_hot method, that would generate tensors suitable for our nn\n",
        "# make sure that the dtype of your tensor is float."
      ]
    },
    {
      "cell_type": "code",
      "execution_count": 282,
      "id": "3fb437ef-01ed-4dfd-9d66-5d40f9b6f50c",
      "metadata": {
        "id": "3fb437ef-01ed-4dfd-9d66-5d40f9b6f50c"
      },
      "outputs": [],
      "source": [
        "X_one_hot = torch.nn.functional.one_hot(X, num_classes=len(vocab)).float()\n",
        "y_one_hot = torch.nn.functional.one_hot(y, num_classes=len(vocab)).float()"
      ]
    },
    {
      "cell_type": "code",
      "source": [
        "print(f\"Tamaño del vocabulario: {len(vocab)}\")\n",
        "print(f\"5 bigramas:\\n{list(b.items())[:5]}\")\n",
        "print(f\"Y:\\n{X_one_hot[:5]}\")\n",
        "print(f\"X:\\n{y_one_hot[:5]}\")"
      ],
      "metadata": {
        "colab": {
          "base_uri": "https://localhost:8080/"
        },
        "id": "q31vv4Cd8dU9",
        "outputId": "e4885620-68ca-467f-ac2e-73c376621da7"
      },
      "id": "q31vv4Cd8dU9",
      "execution_count": 283,
      "outputs": [
        {
          "output_type": "stream",
          "name": "stdout",
          "text": [
            "Tamaño del vocabulario: 2127\n",
            "5 bigramas:\n",
            "[(('muchos', 'años'), 3), (('años', 'después'), 2), (('después', ','), 2), ((',', 'frente'), 1), (('frente', 'al'), 1)]\n",
            "Y:\n",
            "tensor([[1., 0., 0.,  ..., 0., 0., 0.],\n",
            "        [0., 1., 0.,  ..., 0., 0., 0.],\n",
            "        [0., 0., 1.,  ..., 0., 0., 0.],\n",
            "        [0., 0., 0.,  ..., 0., 0., 0.],\n",
            "        [0., 0., 0.,  ..., 0., 0., 0.]])\n",
            "X:\n",
            "tensor([[0., 1., 0.,  ..., 0., 0., 0.],\n",
            "        [0., 0., 1.,  ..., 0., 0., 0.],\n",
            "        [0., 0., 0.,  ..., 0., 0., 0.],\n",
            "        [0., 0., 0.,  ..., 0., 0., 0.],\n",
            "        [0., 0., 0.,  ..., 0., 0., 0.]])\n"
          ]
        }
      ]
    },
    {
      "cell_type": "markdown",
      "id": "cda25114-c6ae-4e07-a743-12e10cd77796",
      "metadata": {
        "id": "cda25114-c6ae-4e07-a743-12e10cd77796"
      },
      "source": [
        "### Network design\n",
        "To start, we are going to have a very simple network. Define a single layer network"
      ]
    },
    {
      "cell_type": "code",
      "execution_count": 284,
      "id": "82bfac7a-e670-4aaf-bf30-5aa8d0ca46e6",
      "metadata": {
        "id": "82bfac7a-e670-4aaf-bf30-5aa8d0ca46e6"
      },
      "outputs": [],
      "source": [
        "# How many neurons should our input layer have?\n",
        "# Use as many neurons as the total number of categories (from your one-hot encoded tensors)\n",
        "# Use the softmax as your activation layer"
      ]
    },
    {
      "cell_type": "code",
      "execution_count": 285,
      "id": "99c50d1e-3842-451e-8ede-1c68dddf3843",
      "metadata": {
        "id": "99c50d1e-3842-451e-8ede-1c68dddf3843"
      },
      "outputs": [],
      "source": [
        "import torch\n",
        "import torch.nn as nn\n",
        "import torch.optim as optim\n",
        "\n",
        "vocab_size = len(vocab)\n",
        "\n",
        "# Red neuronal\n",
        "class SimpleNet(nn.Module):\n",
        "    def __init__(self, input_size, output_size):\n",
        "        super(SimpleNet, self).__init__()\n",
        "        self.fc = nn.Linear(input_size, output_size)\n",
        "\n",
        "    def forward(self, x):\n",
        "        out = self.fc(x)\n",
        "        return torch.softmax(out, dim=1)"
      ]
    },
    {
      "cell_type": "code",
      "execution_count": 286,
      "id": "b62f0fdc-bfb8-4081-acfa-bcab5226b82e",
      "metadata": {
        "id": "b62f0fdc-bfb8-4081-acfa-bcab5226b82e"
      },
      "outputs": [],
      "source": [
        "model = SimpleNet(input_size=vocab_size, output_size=vocab_size)\n",
        "\n",
        "criterion = nn.CrossEntropyLoss()\n",
        "optimizer = optim.Adam(model.parameters(), lr=0.01)"
      ]
    },
    {
      "cell_type": "code",
      "execution_count": 287,
      "id": "15600485-24e3-4716-92ed-28ac1aa792bd",
      "metadata": {
        "id": "15600485-24e3-4716-92ed-28ac1aa792bd"
      },
      "outputs": [],
      "source": [
        "# Train your network"
      ]
    },
    {
      "cell_type": "code",
      "execution_count": 288,
      "id": "eb8b0c9b-55b2-4397-8a0d-e4b13fd2fbec",
      "metadata": {
        "colab": {
          "base_uri": "https://localhost:8080/"
        },
        "id": "eb8b0c9b-55b2-4397-8a0d-e4b13fd2fbec",
        "outputId": "3ac12f43-aa91-49a4-f17f-d0e6c09bf263"
      },
      "outputs": [
        {
          "output_type": "stream",
          "name": "stdout",
          "text": [
            "Epoch [10/100], Loss: 7.6624\n",
            "Epoch [20/100], Loss: 7.6623\n",
            "Epoch [30/100], Loss: 7.6621\n",
            "Epoch [40/100], Loss: 7.6618\n",
            "Epoch [50/100], Loss: 7.6615\n",
            "Epoch [60/100], Loss: 7.6609\n",
            "Epoch [70/100], Loss: 7.6601\n",
            "Epoch [80/100], Loss: 7.6587\n",
            "Epoch [90/100], Loss: 7.6564\n",
            "Epoch [100/100], Loss: 7.6524\n"
          ]
        }
      ],
      "source": [
        "num_epochs = 100\n",
        "for epoch in range(num_epochs):\n",
        "    # Forward\n",
        "    outputs = model(X_one_hot)\n",
        "    loss = criterion(outputs, y)\n",
        "\n",
        "    # Backward y opt\n",
        "    optimizer.zero_grad()\n",
        "    loss.backward()\n",
        "    optimizer.step()\n",
        "\n",
        "    if (epoch+1) % 10 == 0:\n",
        "        print(f'Epoch [{epoch+1}/{num_epochs}], Loss: {loss.item():.4f}')"
      ]
    },
    {
      "cell_type": "markdown",
      "id": "9e2d09aa-8a47-4668-b1b1-5080be8851ed",
      "metadata": {
        "id": "9e2d09aa-8a47-4668-b1b1-5080be8851ed"
      },
      "source": [
        "### Analysis"
      ]
    },
    {
      "cell_type": "markdown",
      "id": "2d06d9c5-4df1-4145-812f-ff86958154c1",
      "metadata": {
        "id": "2d06d9c5-4df1-4145-812f-ff86958154c1"
      },
      "source": [
        "1. Test your network with a few words"
      ]
    },
    {
      "cell_type": "code",
      "execution_count": 289,
      "id": "1ac920e4-e9fc-4760-b031-9c959d78bae5",
      "metadata": {
        "colab": {
          "base_uri": "https://localhost:8080/"
        },
        "id": "1ac920e4-e9fc-4760-b031-9c959d78bae5",
        "outputId": "dbac2a33-2030-4e90-dcad-bf1905eec58d"
      },
      "outputs": [
        {
          "output_type": "stream",
          "name": "stdout",
          "text": [
            "Palabra de entrada: 'mundo' -> Palabra predicha: 'se'\n",
            "Tensor de salida: tensor([[0.0003, 0.0032, 0.0003,  ..., 0.0003, 0.0003, 0.0003]])\n",
            "Palabra de entrada: 'aldea' -> Palabra predicha: ','\n",
            "Tensor de salida: tensor([[0.0003, 0.0029, 0.0003,  ..., 0.0003, 0.0003, 0.0003]])\n",
            "Palabra de entrada: 'casa' -> Palabra predicha: 'en'\n",
            "Tensor de salida: tensor([[0.0003, 0.0028, 0.0003,  ..., 0.0003, 0.0003, 0.0003]])\n"
          ]
        }
      ],
      "source": [
        "# Función para convertir una palabra en su representación one-hot\n",
        "def word_to_one_hot(word, vocab, vocab_size):\n",
        "    word_index = vocab.get(word, None)\n",
        "    one_hot_vector = torch.nn.functional.one_hot(torch.tensor([word_index]), num_classes=vocab_size).float()\n",
        "    return one_hot_vector\n",
        "\n",
        "\n",
        "test_words = [\"mundo\", \"aldea\", \"casa\"]\n",
        "generated_pairs = []\n",
        "\n",
        "# Mostrar tensor de salida por cada palabsa\n",
        "\n",
        "model.eval()\n",
        "with torch.no_grad():\n",
        "    for word in test_words:\n",
        "        one_hot_input = word_to_one_hot(word, vocab, vocab_size)\n",
        "        if one_hot_input is not None:\n",
        "            output = model(one_hot_input)\n",
        "            predicted_index = torch.argmax(output, dim=1).item()\n",
        "            predicted_word = index_to_token[predicted_index]\n",
        "            print(f\"Palabra de entrada: '{word}' -> Palabra predicha: '{predicted_word}'\")\n",
        "            print(f\"Tensor de salida: {output}\")\n",
        "\n",
        "            generated_pairs.append((word, predicted_word))\n"
      ]
    },
    {
      "cell_type": "markdown",
      "id": "2d0e838c-3cab-4b6f-b041-1fde6a6d29aa",
      "metadata": {
        "id": "2d0e838c-3cab-4b6f-b041-1fde6a6d29aa"
      },
      "source": [
        "2. What does each value in the tensor represents? </br>\n",
        "    Representa la probabilidad de que una palabra en especifico en el bocabulario sea la siguiente en la secuencia de palabras.\n",
        "\n",
        "3. Why does it make sense to choose that number of neurons in our layer?</br>\n",
        "    Porque debemos predecir la siguiente palabra de la secuencia a partir de todas las palabras posibles del bocabulario.\n",
        "\n"
      ]
    },
    {
      "cell_type": "markdown",
      "source": [
        "###4. What's the negative likelihood for each example?"
      ],
      "metadata": {
        "id": "5GTrl-W4P5MZ"
      },
      "id": "5GTrl-W4P5MZ"
    },
    {
      "cell_type": "code",
      "source": [
        "def calculate_log_likelihood_for_pair(model, vocab, vocab_size, word1, word2):\n",
        "    model.eval()\n",
        "\n",
        "    with torch.no_grad():\n",
        "        # Convertir word1 a one hot\n",
        "        ix1 = word_to_one_hot(word1, vocab, vocab_size)\n",
        "\n",
        "        ix2 = torch.tensor([vocab[word2]])\n",
        "\n",
        "        output = model(ix1)\n",
        "\n",
        "        # Obtener la probabilidad\n",
        "        pr = output[0, ix2.item()].item()\n",
        "\n",
        "        if pr > 0:\n",
        "            log_likelihood = torch.log(torch.tensor(pr, dtype=torch.float32))\n",
        "        else:\n",
        "            log_likelihood = float('-inf')\n",
        "\n",
        "    return log_likelihood.item()\n",
        "\n",
        "for word1, word2 in generated_pairs:\n",
        "    log_likelihood = calculate_log_likelihood_for_pair(model, vocab, vocab_size, word1, word2)\n",
        "    print(f'Log-likelihood de \"{word2}\" dado \"{word1}\": {log_likelihood}')"
      ],
      "metadata": {
        "colab": {
          "base_uri": "https://localhost:8080/"
        },
        "id": "uYoJuj6uQDmU",
        "outputId": "5043967c-0134-46bb-d276-be4e82be6758"
      },
      "id": "uYoJuj6uQDmU",
      "execution_count": 290,
      "outputs": [
        {
          "output_type": "stream",
          "name": "stdout",
          "text": [
            "Log-likelihood de \"se\" dado \"mundo\": -3.721703290939331\n",
            "Log-likelihood de \",\" dado \"aldea\": -3.6980977058410645\n",
            "Log-likelihood de \"en\" dado \"casa\": -3.6979637145996094\n"
          ]
        }
      ]
    },
    {
      "cell_type": "markdown",
      "source": [
        "###5. Try generating a few sentences?\n"
      ],
      "metadata": {
        "id": "N_40zbkoP6ep"
      },
      "id": "N_40zbkoP6ep"
    },
    {
      "cell_type": "code",
      "source": [
        "def generate_multiple_sentences(model, vocab, index_to_token, start_words, max_length=20, num_sentences=3):\n",
        "    model.eval()\n",
        "    sentences = []\n",
        "    sentence_pairs = []\n",
        "\n",
        "    for i in range(num_sentences):\n",
        "\n",
        "        start_word = start_words[i % len(start_words)]\n",
        "\n",
        "        # Check if the start word is in the vocabulary\n",
        "        if start_word not in vocab:\n",
        "            print(f\"La palabra '{start_word}' No esta en el vocabulario.\")\n",
        "            continue  # Skip to the next start word\n",
        "\n",
        "        sentence = [start_word]\n",
        "        pairs = []\n",
        "\n",
        "        current_word = start_word\n",
        "        for _ in range(max_length - 1):\n",
        "            ix1 = torch.tensor([vocab[current_word]], dtype=torch.long)\n",
        "\n",
        "            # Convertir ix1 a one-hot\n",
        "            ix1 = torch.nn.functional.one_hot(ix1, num_classes=len(vocab)).float()\n",
        "\n",
        "            # Obtener la predicción\n",
        "            with torch.no_grad():\n",
        "                output = model(ix1)\n",
        "\n",
        "            # Palabra con la mayor probabilidad\n",
        "            predicted_index = torch.argmax(output, dim=1).item()\n",
        "            predicted_word = index_to_token[predicted_index]\n",
        "\n",
        "            sentence.append(predicted_word)\n",
        "            pairs.append((current_word, predicted_word))\n",
        "\n",
        "            if predicted_word == '.':\n",
        "                break\n",
        "\n",
        "            current_word = predicted_word\n",
        "\n",
        "        # Guardar la oración\n",
        "        sentences.append(' '.join(sentence))\n",
        "        sentence_pairs.append(pairs)\n",
        "\n",
        "    return sentences, sentence_pairs\n",
        "\n",
        "start_words = [\"para\", \"coronel\", \"barro\"]\n",
        "generated_sentences, generated_sentence_pairs = generate_multiple_sentences(\n",
        "    model, vocab, index_to_token, start_words\n",
        ")\n",
        "\n",
        "for i, sentence in enumerate(generated_sentences, 1):\n",
        "    print(f\"Oracion {i}: {sentence}\")"
      ],
      "metadata": {
        "colab": {
          "base_uri": "https://localhost:8080/"
        },
        "id": "s86gauu3Hvxx",
        "outputId": "8c8b6bfa-dfc1-423e-8390-d9dc258fe09a"
      },
      "id": "s86gauu3Hvxx",
      "execution_count": 291,
      "outputs": [
        {
          "output_type": "stream",
          "name": "stdout",
          "text": [
            "Oracion 1: para la de la de la de la de la de la de la de la de la de la\n",
            "Oracion 2: coronel aureliano , la de la de la de la de la de la de la de la de la\n",
            "Oracion 3: barro y en la de la de la de la de la de la de la de la de la\n"
          ]
        }
      ]
    },
    {
      "cell_type": "markdown",
      "source": [
        "###6. What's the negative likelihood for each sentence?"
      ],
      "metadata": {
        "id": "pPNv61QqP7IA"
      },
      "id": "pPNv61QqP7IA"
    },
    {
      "cell_type": "code",
      "source": [
        "import torch\n",
        "\n",
        "def calculate_log_likelihood_for_sentence_revised(model, vocab, sentence):\n",
        "    model.eval()\n",
        "\n",
        "    log_likelihood = 0\n",
        "    with torch.no_grad():\n",
        "        for i in range(len(sentence) - 1):\n",
        "            word1 = sentence[i]\n",
        "            word2 = sentence[i + 1]\n",
        "\n",
        "            # Obtener los índices de las palabras directamente del vocabulario\n",
        "            ix1 = torch.tensor([vocab[word1]], dtype=torch.long)\n",
        "            ix2 = torch.tensor([vocab[word2]], dtype=torch.long)\n",
        "\n",
        "            # Convert ix1 to one-hot vector\n",
        "            ix1 = torch.nn.functional.one_hot(ix1, num_classes=len(vocab)).float()\n",
        "\n",
        "            # Pasar el índice de la palabra al modelo\n",
        "            output = model(ix1)\n",
        "\n",
        "            # Obtener la probabilidad de la palabra siguiente\n",
        "            pr = output[0, ix2.item()].item()\n",
        "\n",
        "            if pr > 0:\n",
        "                log_likelihood += torch.log(torch.tensor(pr, dtype=torch.float32)).item()\n",
        "            else:\n",
        "                log_likelihood = float('-inf')\n",
        "                break\n",
        "\n",
        "    return log_likelihood\n",
        "\n",
        "for sentence in generated_sentences:\n",
        "    words = sentence.split()\n",
        "    log_likelihood = calculate_log_likelihood_for_sentence_revised(model, vocab, words)\n",
        "    print(f'Log-likelihood de \"{sentence}\": {log_likelihood}')"
      ],
      "metadata": {
        "colab": {
          "base_uri": "https://localhost:8080/"
        },
        "id": "5hol7bGuH_-w",
        "outputId": "242d7515-66df-4ecc-be1c-d77f4b45f98f"
      },
      "id": "5hol7bGuH_-w",
      "execution_count": 294,
      "outputs": [
        {
          "output_type": "stream",
          "name": "stdout",
          "text": [
            "Log-likelihood de \"para la de la de la de la de la de la de la de la de la de la\": -68.55256867408752\n",
            "Log-likelihood de \"coronel aureliano , la de la de la de la de la de la de la de la de la\": -70.42259764671326\n",
            "Log-likelihood de \"barro y en la de la de la de la de la de la de la de la de la\": -69.03052377700806\n"
          ]
        }
      ]
    },
    {
      "cell_type": "markdown",
      "id": "51e533cf-33b0-4a61-84cb-57c5793893ee",
      "metadata": {
        "id": "51e533cf-33b0-4a61-84cb-57c5793893ee"
      },
      "source": [
        "### Design your own neural network (more layers and different number of neurons)\n",
        "The goal is to get sentences that make more sense"
      ]
    },
    {
      "cell_type": "code",
      "execution_count": 295,
      "id": "d3136a66-c972-41be-83bd-9a573a44df4d",
      "metadata": {
        "id": "d3136a66-c972-41be-83bd-9a573a44df4d",
        "colab": {
          "base_uri": "https://localhost:8080/"
        },
        "outputId": "75260573-8414-4585-f055-bf971ee46fc7"
      },
      "outputs": [
        {
          "output_type": "stream",
          "name": "stdout",
          "text": [
            "Epoch [10/200], Loss: 7.6621\n",
            "Epoch [20/200], Loss: 7.6479\n",
            "Epoch [30/200], Loss: 7.5892\n",
            "Epoch [40/200], Loss: 7.5874\n",
            "Epoch [50/200], Loss: 7.5851\n",
            "Epoch [60/200], Loss: 7.5813\n",
            "Epoch [70/200], Loss: 7.5644\n",
            "Epoch [80/200], Loss: 7.5462\n",
            "Epoch [90/200], Loss: 7.5366\n",
            "Epoch [100/200], Loss: 7.5319\n",
            "Epoch [110/200], Loss: 7.5291\n",
            "Epoch [120/200], Loss: 7.5278\n",
            "Epoch [130/200], Loss: 7.5278\n",
            "Epoch [140/200], Loss: 7.5278\n",
            "Epoch [150/200], Loss: 7.5274\n",
            "Epoch [160/200], Loss: 7.5283\n",
            "Epoch [170/200], Loss: 7.5273\n",
            "Epoch [180/200], Loss: 7.5270\n",
            "Epoch [190/200], Loss: 7.5271\n",
            "Epoch [200/200], Loss: 7.5276\n"
          ]
        }
      ],
      "source": [
        "import torch\n",
        "import torch.nn as nn\n",
        "import torch.optim as optim\n",
        "\n",
        "# Definir la red neuronal\n",
        "class ImprovedNet(nn.Module):\n",
        "    def __init__(self, vocab_size, embedding_dim, hidden_dim1, hidden_dim2, output_dim):\n",
        "        super(ImprovedNet, self).__init__()\n",
        "        self.embedding = nn.Embedding(vocab_size, embedding_dim)\n",
        "        self.fc1 = nn.Linear(embedding_dim, hidden_dim1)\n",
        "        self.relu1 = nn.ReLU()\n",
        "        self.dropout1 = nn.Dropout(0.5)\n",
        "        self.fc2 = nn.Linear(hidden_dim1, hidden_dim2)\n",
        "        self.relu2 = nn.ReLU()\n",
        "        self.dropout2 = nn.Dropout(0.5)\n",
        "        self.fc3 = nn.Linear(hidden_dim2, output_dim)\n",
        "\n",
        "    def forward(self, x):\n",
        "        embedded = self.embedding(x)\n",
        "        out = self.fc1(embedded)\n",
        "        out = self.relu1(out)\n",
        "        out = self.dropout1(out)\n",
        "        out = self.fc2(out)\n",
        "        out = self.relu2(out)\n",
        "        out = self.dropout2(out)\n",
        "        out = self.fc3(out)\n",
        "        return torch.softmax(out, dim=1)\n",
        "\n",
        "# Parámetros de la red mejorada\n",
        "embedding_dim = 200 #100\n",
        "hidden_dim1 = 256\n",
        "hidden_dim2 = 128\n",
        "output_dim = vocab_size\n",
        "\n",
        "model = ImprovedNet(vocab_size, embedding_dim, hidden_dim1, hidden_dim2, output_dim)\n",
        "\n",
        "criterion = nn.CrossEntropyLoss()\n",
        "optimizer = optim.Adam(model.parameters(), lr=0.001)\n",
        "\n",
        "num_epochs = 200\n",
        "for epoch in range(num_epochs):\n",
        "    outputs = model(X)\n",
        "    loss = criterion(outputs, y)\n",
        "\n",
        "    optimizer.zero_grad()\n",
        "    loss.backward()\n",
        "    optimizer.step()\n",
        "\n",
        "    if (epoch+1) % 10 == 0:\n",
        "        print(f'Epoch [{epoch+1}/{num_epochs}], Loss: {loss.item():.4f}')\n",
        "\n",
        "# Generar nuevas oraciones\n",
        "def generate_sentence_improved(start_word, model, vocab, index_to_token, max_length=10):\n",
        "    sentence = [start_word]\n",
        "    current_word = start_word\n",
        "\n",
        "    for _ in range(max_length - 1):\n",
        "        word_index = word_to_index(current_word, vocab)\n",
        "        if word_index is None:\n",
        "            break\n",
        "\n",
        "        with torch.no_grad():\n",
        "            output = model(word_index)\n",
        "            predicted_index = torch.argmax(output, dim=1).item()\n",
        "            current_word = index_to_token[predicted_index]\n",
        "            sentence.append(current_word)\n",
        "\n",
        "    return ' '.join(sentence)\n"
      ]
    },
    {
      "cell_type": "code",
      "source": [
        "import torch\n",
        "\n",
        "new_words = ['el', 'macondo', 'coronel']\n",
        "\n",
        "\n",
        "generated_sentences = []\n",
        "\n",
        "for i in new_words:\n",
        "    sentence = generate_sentence_improved(i, model, vocab, index_to_token)\n",
        "    generated_sentences.append(sentence)\n",
        "\n",
        "\n",
        "\n",
        "def calculate_log_likelihood_for_sentence_enhanced(model, vocab, vocab_size, sentence):\n",
        "    model.eval()\n",
        "\n",
        "    log_likelihood = 0\n",
        "    with torch.no_grad():\n",
        "        for i in range(len(sentence) - 1):\n",
        "            word1 = sentence[i]\n",
        "            word2 = sentence[i + 1]\n",
        "\n",
        "            ix1 = torch.tensor([vocab[word1]])\n",
        "            ix2 = torch.tensor([vocab[word2]])\n",
        "            output = model(ix1)\n",
        "\n",
        "            pr = output[0, ix2.item()].item()\n",
        "\n",
        "            if pr > 0:\n",
        "                log_likelihood += torch.log(torch.tensor(pr, dtype=torch.float32)).item()\n",
        "            else:\n",
        "                log_likelihood = float('-inf')\n",
        "                break\n",
        "\n",
        "    return log_likelihood\n",
        "\n",
        "for sentence in generated_sentences:\n",
        "    words = sentence.split()\n",
        "    log_likelihood = calculate_log_likelihood_for_sentence_enhanced(model, vocab, vocab_size, words)\n",
        "    print(f'Log-likelihood de \"{sentence}\": {log_likelihood}')"
      ],
      "metadata": {
        "colab": {
          "base_uri": "https://localhost:8080/"
        },
        "id": "SmNUW_cfa5_D",
        "outputId": "2ff8838c-ef19-4bae-d027-c73601eeeb46"
      },
      "id": "SmNUW_cfa5_D",
      "execution_count": 296,
      "outputs": [
        {
          "output_type": "stream",
          "name": "stdout",
          "text": [
            "Log-likelihood de \"el de de , de de , de , de\": -4.871857404713637\n",
            "Log-likelihood de \"macondo , de , de de de , de ,\": -4.071119249244703\n",
            "Log-likelihood de \"coronel , de de , de de de , de\": -3.424561494966156\n"
          ]
        }
      ]
    }
  ],
  "metadata": {
    "kernelspec": {
      "display_name": "Python 3 (ipykernel)",
      "language": "python",
      "name": "python3"
    },
    "language_info": {
      "codemirror_mode": {
        "name": "ipython",
        "version": 3
      },
      "file_extension": ".py",
      "mimetype": "text/x-python",
      "name": "python",
      "nbconvert_exporter": "python",
      "pygments_lexer": "ipython3",
      "version": "3.12.4"
    },
    "colab": {
      "provenance": []
    }
  },
  "nbformat": 4,
  "nbformat_minor": 5
}