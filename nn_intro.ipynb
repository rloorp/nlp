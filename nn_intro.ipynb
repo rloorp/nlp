{
 "cells": [
  {
   "cell_type": "markdown",
   "id": "e2c88e42-50d4-4b4d-bdf1-894bcff1a41d",
   "metadata": {},
   "source": [
    "# NLP and Neural Networks\n",
    "\n",
    "In this exercise, we'll apply our knowledge of neural networks to process natural language. As we did in the bigram exercise, the goal of this lab is to predict the next word, given the previous one."
   ]
  },
  {
   "cell_type": "markdown",
   "id": "5132d376-54d7-48c3-a52c-ac3d94ed798b",
   "metadata": {},
   "source": [
    "### Data set\n",
    "\n",
    "Load the text from \"One Hundred Years of Solitude\" that we used in our bigrams exercise. It's located in the data folder."
   ]
  },
  {
   "cell_type": "markdown",
   "id": "9e309d79-7746-40e3-8a02-3cc7b45c16ac",
   "metadata": {},
   "source": [
    "### Important note:\n",
    "\n",
    "Start with a smaller part of the text. Maybe the first 10 parragraphs, as the number of tokens rapidly increases as we add more text. \n",
    "\n",
    "Later you can use a bigger corpus."
   ]
  },
  {
   "cell_type": "code",
   "execution_count": null,
   "id": "9bbced32-a252-48b0-bc8f-cecfdcf1ec2e",
   "metadata": {},
   "outputs": [],
   "source": []
  },
  {
   "cell_type": "markdown",
   "id": "3d1393d6-7cbf-4e8e-a699-0f0cd28982a3",
   "metadata": {},
   "source": [
    "Don't forget to prepare the data by generating the corresponding tokens."
   ]
  },
  {
   "cell_type": "code",
   "execution_count": null,
   "id": "9c33da77-ad0b-4eeb-9eaa-0dc98485187f",
   "metadata": {},
   "outputs": [],
   "source": []
  },
  {
   "cell_type": "markdown",
   "id": "7681843a-18f0-4d7c-9b02-83015f4383e1",
   "metadata": {},
   "source": [
    "### Let's prepare the data set.\n",
    "\n",
    "Our neural network needs to have an input X and an output y. Remember that these sets are numerical, so you'd need something to map the tokens into numbers, and viceversa."
   ]
  },
  {
   "cell_type": "code",
   "execution_count": 1,
   "id": "c820ccde-c2ee-41ef-b840-41ccca58b550",
   "metadata": {},
   "outputs": [],
   "source": [
    "# in this case, let's consider a bigram (w1, w2)\n",
    "# assign the w1 to the X vector, and w2 to the y vector, why do we do this?"
   ]
  },
  {
   "cell_type": "code",
   "execution_count": null,
   "id": "29c10640-f146-478a-a1a4-d2e747af5ea6",
   "metadata": {},
   "outputs": [],
   "source": []
  },
  {
   "cell_type": "code",
   "execution_count": 2,
   "id": "cfedfd3b-0396-456b-b9f9-f1c07262a721",
   "metadata": {},
   "outputs": [],
   "source": [
    "# Don't forget that since we are using torch, our training set vectors should be tensors"
   ]
  },
  {
   "cell_type": "code",
   "execution_count": null,
   "id": "640c4732-8463-494a-904f-3880975e2273",
   "metadata": {},
   "outputs": [],
   "source": []
  },
  {
   "cell_type": "code",
   "execution_count": null,
   "id": "5984fd00-bdbf-4403-a341-b7ef83138db2",
   "metadata": {},
   "outputs": [],
   "source": [
    "# Note that our vectors are integers, which can be thought as a categorical variables.\n",
    "# torch provides the one_hot method, that would generate tensors suitable for our nn\n",
    "# make sure that the dtype of your tensor is float."
   ]
  },
  {
   "cell_type": "code",
   "execution_count": null,
   "id": "3fb437ef-01ed-4dfd-9d66-5d40f9b6f50c",
   "metadata": {},
   "outputs": [],
   "source": []
  },
  {
   "cell_type": "markdown",
   "id": "cda25114-c6ae-4e07-a743-12e10cd77796",
   "metadata": {},
   "source": [
    "### Network design\n",
    "To start, we are going to have a very simple network. Define a single layer network"
   ]
  },
  {
   "cell_type": "code",
   "execution_count": 4,
   "id": "82bfac7a-e670-4aaf-bf30-5aa8d0ca46e6",
   "metadata": {},
   "outputs": [],
   "source": [
    "# How many neurons should our input layer have?\n",
    "# Use as many neurons as the total number of categories (from your one-hot encoded tensors)"
   ]
  },
  {
   "cell_type": "code",
   "execution_count": null,
   "id": "99c50d1e-3842-451e-8ede-1c68dddf3843",
   "metadata": {},
   "outputs": [],
   "source": []
  },
  {
   "cell_type": "code",
   "execution_count": 5,
   "id": "202a7281-9ebb-4234-b883-2185cb3bcc19",
   "metadata": {},
   "outputs": [],
   "source": [
    "# Use the softmax as your activation layer"
   ]
  },
  {
   "cell_type": "code",
   "execution_count": null,
   "id": "b62f0fdc-bfb8-4081-acfa-bcab5226b82e",
   "metadata": {},
   "outputs": [],
   "source": []
  },
  {
   "cell_type": "code",
   "execution_count": 6,
   "id": "15600485-24e3-4716-92ed-28ac1aa792bd",
   "metadata": {},
   "outputs": [],
   "source": [
    "# Train your network"
   ]
  },
  {
   "cell_type": "code",
   "execution_count": null,
   "id": "eb8b0c9b-55b2-4397-8a0d-e4b13fd2fbec",
   "metadata": {},
   "outputs": [],
   "source": []
  },
  {
   "cell_type": "markdown",
   "id": "9e2d09aa-8a47-4668-b1b1-5080be8851ed",
   "metadata": {},
   "source": [
    "### Analysis"
   ]
  },
  {
   "cell_type": "markdown",
   "id": "2d06d9c5-4df1-4145-812f-ff86958154c1",
   "metadata": {},
   "source": [
    "1. Test your network with a few words"
   ]
  },
  {
   "cell_type": "code",
   "execution_count": null,
   "id": "1ac920e4-e9fc-4760-b031-9c959d78bae5",
   "metadata": {},
   "outputs": [],
   "source": [
    "# Get an output tensor for each of your tests\n"
   ]
  },
  {
   "cell_type": "markdown",
   "id": "2d0e838c-3cab-4b6f-b041-1fde6a6d29aa",
   "metadata": {},
   "source": [
    "2. What does each value in the tensor represents?\n",
    "3. Why does it make sense to choose that number of neurons in our layer?\n",
    "4. What's the negative likelihood for each example?\n",
    "5. Try generating a few sentences?\n",
    "6. What's the negative likelihood for each sentence?\n"
   ]
  },
  {
   "cell_type": "markdown",
   "id": "51e533cf-33b0-4a61-84cb-57c5793893ee",
   "metadata": {},
   "source": [
    "### Design your own neural network (more layers and different number of neurons)\n",
    "The goal is to get sentences that make more sense "
   ]
  },
  {
   "cell_type": "code",
   "execution_count": null,
   "id": "d3136a66-c972-41be-83bd-9a573a44df4d",
   "metadata": {},
   "outputs": [],
   "source": []
  }
 ],
 "metadata": {
  "kernelspec": {
   "display_name": "Python 3 (ipykernel)",
   "language": "python",
   "name": "python3"
  },
  "language_info": {
   "codemirror_mode": {
    "name": "ipython",
    "version": 3
   },
   "file_extension": ".py",
   "mimetype": "text/x-python",
   "name": "python",
   "nbconvert_exporter": "python",
   "pygments_lexer": "ipython3",
   "version": "3.12.4"
  }
 },
 "nbformat": 4,
 "nbformat_minor": 5
}
